{
 "cells": [
  {
   "cell_type": "markdown",
   "metadata": {},
   "source": [
    "# ANSWER #1:\n",
    "We can say OPPs is a method to solve the probles by using tools and techniques we also say it is a paradigm using some programming language."
   ]
  },
  {
   "cell_type": "markdown",
   "metadata": {},
   "source": [
    "# ANSWER #2:\n",
    "Benefits of oops include \n",
    "-reusability of code,\n",
    "-maintainabilty of code, portability, extensibility etc. \n",
    "-Oops involve features like encapsulation,abstraction,polymorphism, etc. \n",
    "-all of these features differentiates OOPS from procedural programming.\n",
    "-explain in a very crisp manner citing some relevant examples.\n",
    "-looking forward for a detailed explanation with reference to current trends"
   ]
  },
  {
   "cell_type": "markdown",
   "metadata": {},
   "source": [
    "# ANSWER #3:\n",
    "Function                    \t\t\t           Method\n",
    "-function can be make without class \t\t\t\t -method must be make within the class\n",
    "-function call with in loop or any cond \t\t\t -method can be call\n",
    "-we can pass the  parameter in function \t\t\t -method By mehtod we can update the atributes and its names\n"
   ]
  },
  {
   "cell_type": "markdown",
   "metadata": {},
   "source": [
    "# ANSWER #3:\n",
    "Function                    \t\t\t         |\n",
    "-function can be make without class \t\t\t\t\n",
    "-function call with in loop or any cond \t\t\t\n",
    "-we can pass the  parameter in function \t\t\t \n"
   ]
  },
  {
   "cell_type": "markdown",
   "metadata": {},
   "source": [
    "# ANSWER #3:\n",
    "  Method\n",
    "-method must be make within the class\n",
    "-method can be call\n",
    "-method By mehtod we can update the atributes and its names"
   ]
  },
  {
   "cell_type": "markdown",
   "metadata": {},
   "source": [
    "# ANSWER #4:\n",
    "CLASS:\n",
    " -Class is not areal world entity , it is just blue print or template or prototype.\n",
    "  Class does not occupy a memory.\n",
    "  eg.Animals is a class in which dog,cat,cow are the object."
   ]
  },
  {
   "cell_type": "markdown",
   "metadata": {},
   "source": [
    "# OBJECT:\n",
    "OBJECT:\n",
    " - Object is a real world entity.\n",
    " - Object occupy a memory.\n",
    " - Object is an instance of class.\n",
    "  eg. dog,cat.. are the objects of class Animal\n",
    " car is an object of class vehiclaes\n",
    "print(\"A"
   ]
  },
  {
   "cell_type": "markdown",
   "metadata": {},
   "source": [
    "# ATTRIBUTE:\n",
    "ATTRIBUTES: \n",
    " - an attribute is a specification that defines a property of an objecte. It may also refer to or set the specific value for a given instance of such.\n",
    " eg. color,greed,age are the arrtibutes of any object(dog,cat)"
   ]
  },
  {
   "cell_type": "markdown",
   "metadata": {},
   "source": [
    "# BEHAVIOUR:\n",
    "we may be defined as, behavious show the style of any work. eg. run , eat .."
   ]
  },
  {
   "cell_type": "code",
   "execution_count": 1,
   "metadata": {},
   "outputs": [
    {
     "name": "stdout",
     "output_type": "stream",
     "text": [
      "Enter company name  : SUZUKI\n",
      "Enter a range in rupees  :under 13 Lack\n",
      "Marutisuzuki\n",
      "under 13 Lack\n",
      "2018\n",
      "hatchback\n",
      "black\n",
      "SUZUKI\n",
      "black\n",
      "Enter company name  : TATA\n",
      "Enter a range in rupees  :under 15 Lacks\n",
      "Waganor\n",
      "2018\n",
      "V8\n",
      "white\n",
      "TATA\n",
      "white\tchange colour\n",
      "8 lacks\tchange range\n"
     ]
    }
   ],
   "source": [
    "class Car():\n",
    "    def __init__ (self,name,year,model):\n",
    "        self.name=name\n",
    "        self.year=year\n",
    "        self.model=model\n",
    "        self.company=input(\"Enter company name  : \")\n",
    "        self.range=input(\"Enter a range in rupees  :\")\n",
    "        self.colour='black'\n",
    "        self.colour2='white'\n",
    "        self.range2='8 lacks'\n",
    "        \n",
    "    def updatecompany(self,new):\n",
    "        Self.company=new\n",
    "    def updatecolour(self,newcolour):\n",
    "        Self.colour=newcolour\n",
    "    def updatecolour2(self,newcolour2):\n",
    "        Self.colour2=newcolour2\n",
    "    def updaterange2(self,newrange):\n",
    "        Self.range2=newrange\n",
    "car1=Car('Marutisuzuki',2018,'hatchback',)\n",
    "print(car1.name)\n",
    "print(car1.range)\n",
    "print(car1.year)\n",
    "print(car1.model)\n",
    "print(car1.colour)\n",
    "print(car1.company)\n",
    "print(car1.colour)\n",
    "\n",
    "car2=Car('Waganor',2018,'V8')\n",
    "print(car2.name)\n",
    "print(car2.year)\n",
    "print(car2.model)\n",
    "print(car2.colour2)\n",
    "print(car2.company)\n",
    "print(car2.colour2+\"\\t\"+'change colour')\n",
    "print(car2.range2+\"\\t\"+\"change range\")"
   ]
  },
  {
   "cell_type": "code",
   "execution_count": null,
   "metadata": {},
   "outputs": [],
   "source": []
  }
 ],
 "metadata": {
  "kernelspec": {
   "display_name": "Python 3",
   "language": "python",
   "name": "python3"
  },
  "language_info": {
   "codemirror_mode": {
    "name": "ipython",
    "version": 3
   },
   "file_extension": ".py",
   "mimetype": "text/x-python",
   "name": "python",
   "nbconvert_exporter": "python",
   "pygments_lexer": "ipython3",
   "version": "3.7.4"
  }
 },
 "nbformat": 4,
 "nbformat_minor": 2
}
