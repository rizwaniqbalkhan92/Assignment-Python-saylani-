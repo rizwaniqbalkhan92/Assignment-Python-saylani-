{
 "cells": [
  {
   "cell_type": "code",
   "execution_count": 1,
   "metadata": {},
   "outputs": [
    {
     "name": "stdout",
     "output_type": "stream",
     "text": [
      "Calculator\n",
      "Enter a number12\n",
      "Enter a second number11\n",
      "Enter a operator@\n",
      "PLease select the correct operator\n",
      "+ ,  - , * , / , x2 \n",
      "Thank You\n"
     ]
    }
   ],
   "source": [
    "print(\"Calculator\")\n",
    "a=int(input(\"Enter a number\"))\n",
    "b=int(input(\"Enter a second number\"))\n",
    "operator=input(\"Enter a operator\")\n",
    "if operator=='+':\n",
    "    result=a+b\n",
    "    print(result)\n",
    "elif operator==\"-\":\n",
    "    result=a-b\n",
    "    print(result)\n",
    "elif operator==\"*\":\n",
    "    result=a*b\n",
    "    print(result)\n",
    "elif operator==\"/\":\n",
    "    result=a/b\n",
    "    print(result)\n",
    "elif operator==\"x2\":\n",
    "    result=a**b\n",
    "    print(result)\n",
    "else:\n",
    "            print(\"PLease select the correct operator\\n\"+\"+ ,  - , * , / , x2 \\n\"+\"Thank You\")"
   ]
  },
  {
   "cell_type": "code",
   "execution_count": 2,
   "metadata": {},
   "outputs": [
    {
     "name": "stdout",
     "output_type": "stream",
     "text": [
      "if any numeric exists in list: \n",
      "numeric value is exists in list\n",
      "if 6 exists in list: \n",
      "Element Exists in List\n"
     ]
    }
   ],
   "source": [
    " list = [ 2, 4, 7, 6, 3, 5 ] \n",
    "  \n",
    "print(\"if any numeric exists in list: \") \n",
    "\n",
    "for x in list: \n",
    "    if(x == 6) : \n",
    "        print (\"numeric value is exists in list\") \n",
    "  \n",
    "print(\"if 6 exists in list: \") \n",
    "  \n",
    "if (6 in list): \n",
    "    print (\"Element Exists in List\")"
   ]
  },
  {
   "cell_type": "code",
   "execution_count": 3,
   "metadata": {},
   "outputs": [
    {
     "name": "stdout",
     "output_type": "stream",
     "text": [
      "Dictionary Program\n",
      "{1: 2, 2: 4, 3: 8, 4: 16}\n",
      "{1: 2, 2: 4, 3: 8, 4: 16, 5: 32}\n"
     ]
    }
   ],
   "source": [
    "print(\"Dictionary Program\")\n",
    "dictionary= {1:2, 2:4, 3:8, 4:16}\n",
    "print(dictionary)\n",
    "dictionary.update({5:32})\n",
    "print(dictionary)"
   ]
  },
  {
   "cell_type": "code",
   "execution_count": 4,
   "metadata": {},
   "outputs": [
    {
     "name": "stdout",
     "output_type": "stream",
     "text": [
      "30\n"
     ]
    }
   ],
   "source": [
    "dictionary= {'a':2, 'b':4, 'c':8, 'd':16}\n",
    "total=sum(dictionary.values())\n",
    "print(total)"
   ]
  },
  {
   "cell_type": "code",
   "execution_count": null,
   "metadata": {},
   "outputs": [],
   "source": []
  },
  {
   "cell_type": "code",
   "execution_count": 1,
   "metadata": {},
   "outputs": [
    {
     "name": "stdout",
     "output_type": "stream",
     "text": [
      "Key is present in the dictionary\n",
      "Key is not present in the dictionary\n"
     ]
    }
   ],
   "source": [
    "dictionary = {11:'rizwan', 12:'iqbal', 13:'khan'}\n",
    "def key(x):\n",
    "  if x in dictionary:\n",
    "      print('Key is present in the dictionary')\n",
    "  else:\n",
    "      print('Key is not present in the dictionary')\n",
    "key(11)\n",
    "key(14)\n"
   ]
  },
  {
   "cell_type": "code",
   "execution_count": null,
   "metadata": {},
   "outputs": [],
   "source": []
  }
 ],
 "metadata": {
  "kernelspec": {
   "display_name": "Python 3",
   "language": "python",
   "name": "python3"
  },
  "language_info": {
   "codemirror_mode": {
    "name": "ipython",
    "version": 3
   },
   "file_extension": ".py",
   "mimetype": "text/x-python",
   "name": "python",
   "nbconvert_exporter": "python",
   "pygments_lexer": "ipython3",
   "version": "3.7.4"
  }
 },
 "nbformat": 4,
 "nbformat_minor": 2
}
