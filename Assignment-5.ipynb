{
 "cells": [
  {
   "cell_type": "code",
   "execution_count": 1,
   "metadata": {},
   "outputs": [
    {
     "name": "stdout",
     "output_type": "stream",
     "text": [
      "Input a number to compute the factiorial : 7\n",
      "5040\n"
     ]
    }
   ],
   "source": [
    "def factorial(n):\n",
    "    if n == 0:\n",
    "        return 1\n",
    "    else:\n",
    "        return n * factorial(n-1)\n",
    "n=int(input(\"Input a number to compute the factiorial : \"))\n",
    "print(factorial(n))"
   ]
  },
  {
   "cell_type": "code",
   "execution_count": 2,
   "metadata": {},
   "outputs": [
    {
     "name": "stdout",
     "output_type": "stream",
     "text": [
      "Quaid-e-Azam Muhammad Ali Jinnah\n",
      "Function accept string :  Quaid-e-Azam Muhammad Ali Jinnah\n",
      "Number of Upper case characters :  5\n",
      "Number of Lower case Characters :  22\n"
     ]
    }
   ],
   "source": [
    "def string_test(from_user):\n",
    "    dic={\"for_upper case\":0, \"for_lower case\":0}\n",
    "    for i in from_user:\n",
    "        if i.isupper():\n",
    "            dic[\"for_upper case\"]+=1\n",
    "        elif i.islower():\n",
    "            dic[\"for_lower case\"]+=1\n",
    "        else:\n",
    "           pass\n",
    "    print (\"Function accept string : \", from_user)\n",
    "    print (\"Number of Upper case characters : \", dic[\"for_upper case\"])\n",
    "    print (\"Number of Lower case Characters : \", dic[\"for_lower case\"])\n",
    "\n",
    "string_test(input())\n"
   ]
  },
  {
   "cell_type": "code",
   "execution_count": 1,
   "metadata": {},
   "outputs": [
    {
     "name": "stdout",
     "output_type": "stream",
     "text": [
      "Enter a number to check weather a number is prime or not7\n",
      "Prime number\n",
      "Prime number\n"
     ]
    }
   ],
   "source": [
    "num=int(input(\"Enter a number to check weather a number is prime or not\"))\n",
    "for i in (2,num-1):\n",
    "    if num%i==0:\n",
    "        print(\"Not Prime\")\n",
    "        break\n",
    "    else:\n",
    "        print(\"Prime number\")"
   ]
  },
  {
   "cell_type": "code",
   "execution_count": null,
   "metadata": {},
   "outputs": [],
   "source": []
  }
 ],
 "metadata": {
  "kernelspec": {
   "display_name": "Python 3",
   "language": "python",
   "name": "python3"
  },
  "language_info": {
   "codemirror_mode": {
    "name": "ipython",
    "version": 3
   },
   "file_extension": ".py",
   "mimetype": "text/x-python",
   "name": "python",
   "nbconvert_exporter": "python",
   "pygments_lexer": "ipython3",
   "version": "3.7.4"
  }
 },
 "nbformat": 4,
 "nbformat_minor": 2
}
