{
 "cells": [
  {
   "cell_type": "code",
   "execution_count": 1,
   "metadata": {},
   "outputs": [
    {
     "name": "stdout",
     "output_type": "stream",
     "text": [
      "1. Write a Python program to print the following string in a specific format.\n",
      "\n",
      "-Output\n",
      "\n",
      "twinkle, twinkle, little star,\n",
      "\tHow I wonder what you are!\n",
      "\t\tUp above the world so high,\n",
      "\t\tLike a diamond in the sky.\n",
      "twinkle, twinkle, little star,\n",
      "\tHow I wonder what you are!\n"
     ]
    }
   ],
   "source": [
    "print(\"1. Write a Python program to print the following string in a specific format.\")\n",
    "print(\"\\n-Output\\n\")\n",
    "print(\"twinkle, twinkle, little star,\")\n",
    "print(\"\\tHow I wonder what you are!\")\n",
    "print(\"\\t\\tUp above the world so high,\")\n",
    "print(\"\\t\\tLike a diamond in the sky.\")\n",
    "print(\"twinkle, twinkle, little star,\")\n",
    "print(\"\\tHow I wonder what you are!\")\n"
   ]
  },
  {
   "cell_type": "code",
   "execution_count": 2,
   "metadata": {},
   "outputs": [
    {
     "name": "stdout",
     "output_type": "stream",
     "text": [
      "2.Write a Python program to get the Python version you are using.\n",
      "-Output\n",
      "Python version\n",
      "3.7.4 (default, Aug  9 2019, 18:34:13) [MSC v.1915 64 bit (AMD64)]\n",
      "Version info_\n",
      "sys.version_info(major=3, minor=7, micro=4, releaselevel='final', serial=0)\n"
     ]
    }
   ],
   "source": [
    "import sys\n",
    "print(\"2.Write a Python program to get the Python version you are using.\\n-Output\")\n",
    "print(\"Python version\\n\"+sys.version+\"\\nVersion info_\"+\"\\n\"+str(sys.version_info))\n",
    "   "
   ]
  },
  {
   "cell_type": "code",
   "execution_count": 6,
   "metadata": {},
   "outputs": [
    {
     "name": "stdout",
     "output_type": "stream",
     "text": [
      "3. Write a Python program to display the current date and time.\n",
      "-Output\n",
      "Today date and time\n",
      "21-11-19 11:54:19\n"
     ]
    }
   ],
   "source": [
    "print(\"3. Write a Python program to display the current date and time.\\n-Output\")\n",
    "import datetime\n",
    "today = datetime.datetime.today()\n",
    "print (\"Today date and time\")\n",
    "print (today.strftime(\"%d-%m-%y %H:%M:%S\"))\n"
   ]
  },
  {
   "cell_type": "code",
   "execution_count": 3,
   "metadata": {},
   "outputs": [
    {
     "name": "stdout",
     "output_type": "stream",
     "text": [
      " 4. Write a Python program which accepts the radius of a circle from the user and compute the area.\n",
      "-Output\n",
      "Enter a radius of circle.\n",
      "The radius of circle is:4\n",
      "The formula of area of circle is: A=pr^2\n",
      " Here  pi=3.14 (constant)\n",
      "The area of circle is:50.26548245743669 metersquare\n"
     ]
    }
   ],
   "source": [
    "print(\" 4. Write a Python program which accepts the radius of a circle from the user and compute the area.\\n-Output\")\n",
    "radius=float(input(\"Enter a radius of circle.\\nThe radius of circle is:\"))\n",
    "print(\"The formula of area of circle is: A=pr^2\\n Here  pi=3.14 (constant)\")\n",
    "from math import pi\n",
    "print(\"The area of circle is:\"+ str(pi * radius**2)+\" metersquare\")"
   ]
  },
  {
   "cell_type": "code",
   "execution_count": 4,
   "metadata": {},
   "outputs": [
    {
     "name": "stdout",
     "output_type": "stream",
     "text": [
      "5.Write a Python program which accepts the user's first and last name and print them in reverse order with a space between them.\n",
      "-Output:\n",
      "Enter a first name\n",
      "Rizwan\n",
      "Enter a last name\n",
      "Iqbal\n",
      "IqbalRizwan\n"
     ]
    }
   ],
   "source": [
    "print(\"5.Write a Python program which accepts the user's first and last name and print them in reverse order with a space between them.\\n-Output:\")\n",
    "print(\"Enter a first name\")\n",
    "first_name=input()\n",
    "print(\"Enter a last name\")\n",
    "last_name=input()\n",
    "print(last_name+first_name)\n"
   ]
  },
  {
   "cell_type": "code",
   "execution_count": 5,
   "metadata": {},
   "outputs": [
    {
     "name": "stdout",
     "output_type": "stream",
     "text": [
      "6. Write a python program which takes two inputs from user and print them addition.\n",
      "-Output\n",
      "Enter a first number\n",
      "12\n",
      "Enter a second number\n",
      "12\n",
      "The addition of two numbers is:24\n"
     ]
    }
   ],
   "source": [
    "print(\"6. Write a python program which takes two inputs from user and print them addition.\\n-Output\")\n",
    "print(\"Enter a first number\")\n",
    "first_number=int(input())\n",
    "print(\"Enter a second number\")\n",
    "second_number=int(input())\n",
    "addition=first_number+second_number\n",
    "print(\"The addition of two numbers is:\"+str(addition))\n",
    "\n"
   ]
  },
  {
   "cell_type": "code",
   "execution_count": null,
   "metadata": {},
   "outputs": [],
   "source": []
  }
 ],
 "metadata": {
  "kernelspec": {
   "display_name": "Python 3",
   "language": "python",
   "name": "python3"
  },
  "language_info": {
   "codemirror_mode": {
    "name": "ipython",
    "version": 3
   },
   "file_extension": ".py",
   "mimetype": "text/x-python",
   "name": "python",
   "nbconvert_exporter": "python",
   "pygments_lexer": "ipython3",
   "version": "3.7.4"
  }
 },
 "nbformat": 4,
 "nbformat_minor": 2
}
