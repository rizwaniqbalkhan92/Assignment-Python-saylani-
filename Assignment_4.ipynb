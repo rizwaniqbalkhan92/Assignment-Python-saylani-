{
 "cells": [
  {
   "cell_type": "code",
   "execution_count": 1,
   "metadata": {},
   "outputs": [
    {
     "name": "stdout",
     "output_type": "stream",
     "text": [
      "{'first_name': 'rizwan', 'last_name': 'iqbal', 'age': 22, 'city': 'karachi'}\n",
      "{'first_name': 'rizwan', 'last_name': 'iqbal', 'age': 22, 'city': 'karachi', 'qualification': 'intermediate'}\n",
      "{'first_name': 'rizwan', 'last_name': 'iqbal', 'age': 22, 'city': 'karachi', 'qualification': 'undergraduate'}\n",
      "{'first_name': 'rizwan', 'last_name': 'iqbal', 'age': 22, 'city': 'karachi'}\n"
     ]
    }
   ],
   "source": [
    "student={                           #first make a dictionary\n",
    "    \"first_name\":\"rizwan\",\n",
    "    \"last_name\":\"iqbal\",\n",
    "    \"age\":22,\n",
    "    \"city\":\"karachi\",\n",
    "}\n",
    "print(student)                      \n",
    "student[\"qualification\"]=\"intermediate\"        #add key and value\n",
    "print(student)\n",
    "b={\"qualification\":\"undergraduate\"}            #update key and value\n",
    "student.update(b)\n",
    "print(student)\n",
    "del student['qualification']                  #delete key and value\n",
    "print(student)"
   ]
  },
  {
   "cell_type": "code",
   "execution_count": 2,
   "metadata": {},
   "outputs": [
    {
     "name": "stdout",
     "output_type": "stream",
     "text": [
      "{'country is pakistan', 'fact the city of light', 'karachi is the biggest city of Pakistan,its population approximately 14.91 million'}\n",
      "{'country is India', 'Dehli is the capital of India,its population approximately 18.98 million', 'fact is the city of mughal empiror'}\n",
      "{'country is turkey', 'fact is here many beautiful mosque,it is also the city of tourist', 'Istambol is a capital of turkey,its population nearly 15.07 million '}\n"
     ]
    }
   ],
   "source": [
    "cities={\n",
    "    \"karachi\":{\n",
    "        'karachi is the biggest city of Pakistan,its population approximately 14.91 million',\n",
    "        'country is pakistan',\n",
    "        'fact the city of light',\n",
    "    },\n",
    "    \"dehli\":{\n",
    "       'Dehli is the capital of India,its population approximately 18.98 million',\n",
    "       \"country is India\",\n",
    "       'fact is the city of mughal empiror',\n",
    "    },\n",
    "    \"istambul\":{\n",
    "        'Istambol is a capital of turkey,its population nearly 15.07 million ',\n",
    "        \"country is turkey\",\n",
    "        \"fact is here many beautiful mosque,it is also the city of tourist\",\n",
    "    },\n",
    "    \n",
    "}\n",
    "print(cities[\"karachi\"])\n",
    "print(cities[\"dehli\"])\n",
    "print(cities[\"istambul\"])"
   ]
  },
  {
   "cell_type": "code",
   "execution_count": 3,
   "metadata": {},
   "outputs": [
    {
     "name": "stdout",
     "output_type": "stream",
     "text": [
      "my one of the favorite book is Alice Wonder\n"
     ]
    }
   ],
   "source": [
    "def favorite(title):\n",
    "    message='my one of the favorite book is Alice Wonder'\n",
    "    title=message\n",
    "    print(title)\n",
    "favorite(\"my favorite_book is Alice Wonder\")"
   ]
  },
  {
   "cell_type": "code",
   "execution_count": null,
   "metadata": {},
   "outputs": [
    {
     "name": "stdout",
     "output_type": "stream",
     "text": [
      "Random Guess Number Game\n",
      "guess a num between 1 and 30: 1\n",
      "Please... enter a higher number\n",
      "\n",
      "guess a num between 1 and 30: 11\n",
      "please...enter a lower number\n",
      "\n",
      "guess a num between 1 and 30: 12\n",
      "please...enter a lower number\n",
      "\n",
      "guess a num between 1 and 30: 22\n",
      "please...enter a lower number\n",
      "\n",
      "guess a num between 1 and 30: 33\n",
      "please...enter a lower number\n",
      "\n",
      "guess a num between 1 and 30: 40\n",
      "please...enter a lower number\n",
      "\n",
      "guess a num between 1 and 30: 50\n",
      "please...enter a lower number\n",
      "\n",
      "guess a num between 1 and 30: 0\n",
      "Please... enter a higher number\n"
     ]
    }
   ],
   "source": [
    "print(\"Random Guess Number Game\")\n",
    "import random\n",
    "num=random.randrange(1,30)\n",
    "guess=int(input(\"guess a num between 1 and 30: \"))\n",
    "while guess!=num:\n",
    "    if guess<num:\n",
    "        print(\"Please... enter a higher number\")\n",
    "        guess=int(input(\"\\nguess a num between 1 and 30: \"))\n",
    "    else:\n",
    "        print(\"please...enter a lower number\" )\n",
    "        guess=int(input(\"\\nguess a num between 1 and 30: \"))\n",
    "print(\"Enter a correct number in the range of 1 to 30\")"
   ]
  },
  {
   "cell_type": "code",
   "execution_count": 1,
   "metadata": {},
   "outputs": [
    {
     "name": "stdout",
     "output_type": "stream",
     "text": [
      "Movie Threator Ticket Price depend on age \n",
      "Enter Your Age Correctly  :3\n",
      "Free ticket because under the age of 3 you get free pass\n"
     ]
    }
   ],
   "source": [
    "print(\"Movie Threator Ticket Price depend on age \")\n",
    "per=int(input(\"Enter Your Age Correctly  :\"))\n",
    "a=3\n",
    "b=10\n",
    "c=12\n",
    "if per==a:\n",
    "    print(\"Free ticket because under the age of 3 you get free pass\")\n",
    "elif per<b:\n",
    "    print(\"Your Ticket price is Rs.10$\")\n",
    "elif per>=c:\n",
    "    print(\"15$\")\n",
    "else:\n",
    "        print(\"Thank you\")"
   ]
  },
  {
   "cell_type": "code",
   "execution_count": null,
   "metadata": {},
   "outputs": [],
   "source": []
  }
 ],
 "metadata": {
  "kernelspec": {
   "display_name": "Python 3",
   "language": "python",
   "name": "python3"
  },
  "language_info": {
   "codemirror_mode": {
    "name": "ipython",
    "version": 3
   },
   "file_extension": ".py",
   "mimetype": "text/x-python",
   "name": "python",
   "nbconvert_exporter": "python",
   "pygments_lexer": "ipython3",
   "version": "3.7.4"
  }
 },
 "nbformat": 4,
 "nbformat_minor": 2
}
