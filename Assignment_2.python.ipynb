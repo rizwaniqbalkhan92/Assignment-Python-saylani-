{
 "cells": [
  {
   "cell_type": "code",
   "execution_count": 1,
   "metadata": {},
   "outputs": [
    {
     "name": "stdout",
     "output_type": "stream",
     "text": [
      "Enter Your Name.\n",
      " Your Name is: Rizwan Iqbal Khan\n",
      "Enter a student id.\n",
      "Your Student id is: 267\n",
      "Enter Your Class name.\n",
      "You read in class: 9th\n",
      "Enter a Exams name (for example) Mid and Final.\n",
      "Your Exams Name is: Mid\n",
      "Enter your Percentage77\n",
      "Your grade is:A\n",
      "Good Performance\n",
      " Thank You\n"
     ]
    }
   ],
   "source": [
    "name=input(\"Enter Your Name.\\n\"+\" \"+\"Your Name is: \")\n",
    "stu_id=int(input(\"Enter a student id.\\n\"+\"\"+\"Your Student id is: \"))\n",
    "clas=(input(\"Enter Your Class name.\\n\"+\"\"+\"You read in class: \"))\n",
    "term=(input(\"Enter a Exams name (for example) Mid and Final.\\n\"+\"\"+\"Your Exams Name is: \"))\n",
    "a=int(input(\"Enter your Percentage\"))\n",
    "if(a>=90):\n",
    "    print(\"Your grade is: A++\\n\"+\"\" +\"Excellent Performance\\n Thank You\")\n",
    "elif(a>=80):\n",
    "    print(\"Your grade is:A+\\n\"+\"\" +\"Excellent Performance\\n Thank You\")\n",
    "elif(a>=70):\n",
    "    print(\"Your grade is:A\\n\"+\"\" +\"Good Performance\\n Thank You\")\n",
    "elif(a>=60):\n",
    "    print(\"Your grade is:B\\n\"+\"\" +\"Good Performance\\n Thank You\")\n",
    "elif(a>=50):\n",
    "    print(\"Your grade is:C\\n\"+\"\" +\"Not bad Performance\\n Thank You\")\n",
    "elif(a>=40):\n",
    "    print(\"Your grade is:D\\n\"+\"\" +\"You need to hard work so keep it up\\n Thank You\")\n",
    "elif(a>=33):\n",
    "    print(\"Your grade is:E\\n\"+\"\" +\"You need hard work,do not worry because hard working is key to success\\n Thank You \")\n",
    "else:\n",
    "        print(\"Your grade is:F\\n\"+\"\" +\"You should again for exams try more and more in next time\\n Thank You\")\n",
    "\n",
    "\n"
   ]
  },
  {
   "cell_type": "code",
   "execution_count": 2,
   "metadata": {},
   "outputs": [
    {
     "name": "stdout",
     "output_type": "stream",
     "text": [
      "EVEN AND ODD APPLICATION\n",
      "Enter a number to check the number is odd weather even\n",
      "Your number is: 7\n",
      "The given number is Odd\n"
     ]
    }
   ],
   "source": [
    " print(\"EVEN AND ODD APPLICATION\")\n",
    "a=int(input(\"Enter a number to check the number is odd weather even\\n\"+\"\"+\"Your number is: \"))\n",
    "if(a%2==0):\n",
    "    print(\"The given number is even\")\n",
    "else:\n",
    "    print(\"The given number is Odd\")\n"
   ]
  },
  {
   "cell_type": "code",
   "execution_count": 3,
   "metadata": {},
   "outputs": [
    {
     "name": "stdout",
     "output_type": "stream",
     "text": [
      "Sum of all numbers in a list\n"
     ]
    },
    {
     "data": {
      "text/plain": [
       "55"
      ]
     },
     "execution_count": 3,
     "metadata": {},
     "output_type": "execute_result"
    }
   ],
   "source": [
    "print(\"Sum of all numbers in a list\")\n",
    "nums=[1,2,3,4,5,6,7,8,9,10]\n",
    "sum(nums)\n",
    "\n",
    "\n",
    "\n"
   ]
  },
  {
   "cell_type": "code",
   "execution_count": 4,
   "metadata": {
    "scrolled": true
   },
   "outputs": [
    {
     "name": "stdout",
     "output_type": "stream",
     "text": [
      "The Largest number in a list\n"
     ]
    },
    {
     "data": {
      "text/plain": [
       "65"
      ]
     },
     "execution_count": 4,
     "metadata": {},
     "output_type": "execute_result"
    }
   ],
   "source": [
    "print(\"The Largest number in a list\")\n",
    "nums=[22,33,11,23,43,55,65]\n",
    "max(nums)\n"
   ]
  },
  {
   "cell_type": "code",
   "execution_count": 5,
   "metadata": {},
   "outputs": [
    {
     "name": "stdout",
     "output_type": "stream",
     "text": [
      "Lenght Program\n"
     ]
    },
    {
     "data": {
      "text/plain": [
       "9"
      ]
     },
     "execution_count": 5,
     "metadata": {},
     "output_type": "execute_result"
    }
   ],
   "source": [
    "print(\"Lenght Program\")\n",
    "a=[22,1,2,32,42,4,3,4,53]\n",
    "len(a)\n"
   ]
  },
  {
   "cell_type": "code",
   "execution_count": null,
   "metadata": {},
   "outputs": [],
   "source": []
  }
 ],
 "metadata": {
  "kernelspec": {
   "display_name": "Python 3",
   "language": "python",
   "name": "python3"
  },
  "language_info": {
   "codemirror_mode": {
    "name": "ipython",
    "version": 3
   },
   "file_extension": ".py",
   "mimetype": "text/x-python",
   "name": "python",
   "nbconvert_exporter": "python",
   "pygments_lexer": "ipython3",
   "version": "3.7.4"
  }
 },
 "nbformat": 4,
 "nbformat_minor": 2
}
